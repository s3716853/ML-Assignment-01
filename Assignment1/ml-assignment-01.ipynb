{
 "cells": [
  {
   "cell_type": "markdown",
   "id": "recovered-least",
   "metadata": {},
   "source": [
    "# Student Info\n",
    "- s3716853\n",
    "- Matthew Eletva"
   ]
  },
  {
   "cell_type": "markdown",
   "id": "juvenile-tissue",
   "metadata": {},
   "source": [
    "# Assignment Notes\n",
    "- \"Predict if a given patient (i.e. newborn child) will be discharged from the hospital within 3 days (class 0) or will stay in hospital beyond that - 4 days or more (class 1)”\n",
    "- Binary Classification problem\n",
    "    - Class 0 (3 Days)\n",
    "    - Class 1 (4 or more days)"
   ]
  },
  {
   "cell_type": "markdown",
   "id": "naughty-nitrogen",
   "metadata": {},
   "source": [
    "# ToDo\n",
    "- empty (for now)"
   ]
  },
  {
   "cell_type": "code",
   "execution_count": null,
   "id": "headed-basic",
   "metadata": {},
   "outputs": [],
   "source": []
  }
 ],
 "metadata": {
  "kernelspec": {
   "display_name": "conda_python3",
   "language": "python",
   "name": "conda_python3"
  },
  "language_info": {
   "codemirror_mode": {
    "name": "ipython",
    "version": 3
   },
   "file_extension": ".py",
   "mimetype": "text/x-python",
   "name": "python",
   "nbconvert_exporter": "python",
   "pygments_lexer": "ipython3",
   "version": "3.6.13"
  }
 },
 "nbformat": 4,
 "nbformat_minor": 5
}
